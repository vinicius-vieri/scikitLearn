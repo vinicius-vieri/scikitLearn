{
 "cells": [
  {
   "attachments": {},
   "cell_type": "markdown",
   "metadata": {},
   "source": [
    "### Machine Learning"
   ]
  },
  {
   "attachments": {},
   "cell_type": "markdown",
   "metadata": {},
   "source": [
    "Dentre as práticas de aprendizagem de máquina, temos:"
   ]
  },
  {
   "attachments": {},
   "cell_type": "markdown",
   "metadata": {},
   "source": [
    "Aprendizagem supervisionada:\n",
    "A aprendizagem supervisionada é um tipo de abordagem em que um modelo de aprendizado de máquina é treinado usando um conjunto de dados rotulados. Nesse tipo de aprendizagem, cada exemplo de treinamento consiste em uma entrada (características) e uma saída desejada (rótulo). O objetivo é que o modelo aprenda a mapear corretamente as entradas para as saídas, de modo que possa generalizar e fazer previsões precisas para novos exemplos. Algoritmos comuns de aprendizagem supervisionada incluem regressão linear, árvores de decisão, redes neurais e algoritmos de classificação, como o SVM (Support Vector Machine) e o KNN (K-Nearest Neighbors).\n",
    "\n",
    "Aprendizagem não supervisionada:\n",
    "A aprendizagem não supervisionada é um tipo de abordagem em que um modelo de aprendizado de máquina é treinado em um conjunto de dados não rotulados, ou seja, não há informações sobre as saídas desejadas. O objetivo da aprendizagem não supervisionada é descobrir padrões, estruturas ou relações ocultas nos dados. Os algoritmos de aprendizagem não supervisionada são usados principalmente para agrupar os dados em clusters, encontrar associações entre os exemplos ou reduzir a dimensionalidade dos dados. Alguns exemplos de algoritmos de aprendizagem não supervisionada são o algoritmo K-means, a análise de componentes principais (PCA) e as redes neurais autoencoder.\n",
    "\n",
    "Aprendizagem por reforço:\n",
    "A aprendizagem por reforço é um tipo de abordagem em que um agente de aprendizado interage com um ambiente dinâmico. O agente recebe feedback positivo ou negativo, chamado de recompensa, com base em suas ações. O objetivo da aprendizagem por reforço é que o agente aprenda a tomar ações que maximizem a recompensa total ao longo do tempo. O agente aprende através de tentativa e erro, explorando o ambiente e ajustando sua estratégia com base no feedback recebido. Algoritmos de aprendizagem por reforço são amplamente usados em áreas como jogos, robótica e otimização de processos. O algoritmo Q-learning e o método Monte Carlo são exemplos populares de técnicas de aprendizagem por reforço."
   ]
  },
  {
   "attachments": {},
   "cell_type": "markdown",
   "metadata": {},
   "source": [
    "### ScikitLearn"
   ]
  },
  {
   "attachments": {},
   "cell_type": "markdown",
   "metadata": {},
   "source": [
    "Scikit-learn é uma biblioteca popular de aprendizado de máquina em Python. Também conhecida como sklearn, ela fornece uma ampla gama de algoritmos de aprendizado de máquina supervisionado e não supervisionado, bem como ferramentas para pré-processamento de dados, avaliação de modelos e seleção de recursos.\n",
    "\n",
    "Scikit-learn é amplamente utilizada devido à sua interface simples e consistente, facilitando o uso e a experimentação com diferentes algoritmos. A biblioteca possui uma documentação abrangente, além de uma comunidade ativa que contribui com exemplos e recursos adicionais.\n",
    "\n",
    "Algumas das principais funcionalidades do scikit-learn incluem:\n",
    "\n",
    "Implementação de algoritmos: Scikit-learn oferece implementações eficientes de uma variedade de algoritmos de aprendizado de máquina, como regressão linear, regressão logística, árvores de decisão, florestas aleatórias, SVM (Support Vector Machines), redes neurais, algoritmos de agrupamento, entre outros.\n",
    "\n",
    "Pré-processamento de dados: Scikit-learn possui ferramentas para pré-processar dados antes de alimentá-los aos algoritmos de aprendizado de máquina. Isso inclui a normalização de dados, o tratamento de valores ausentes, a codificação de variáveis categóricas e a redução de dimensionalidade.\n",
    "\n",
    "Avaliação de modelos: Scikit-learn oferece funções para avaliar o desempenho dos modelos de aprendizado de máquina. Isso inclui métricas de avaliação, como precisão, recall, F1-score, matriz de confusão, curvas ROC, entre outras. Também possui ferramentas para validação cruzada e divisão de conjuntos de treinamento e teste.\n",
    "\n",
    "Seleção de recursos: Scikit-learn fornece métodos para selecionar as melhores características (variáveis) a serem usadas em um modelo de aprendizado de máquina. Isso ajuda a reduzir a dimensionalidade dos dados e melhorar a eficiência e a precisão dos modelos.\n",
    "\n",
    "Scikit-learn é uma ferramenta muito útil para iniciar projetos de aprendizado de máquina, permitindo que desenvolvedores e cientistas de dados apliquem algoritmos de forma fácil e eficiente."
   ]
  },
  {
   "attachments": {},
   "cell_type": "markdown",
   "metadata": {},
   "source": [
    "#### O algoritmo será usado para um exemplo de relação entre horas de estudo no mês e salário. Porém, é valido informar que essa relação tem finalidade didática e que para representar de maneira mais fidedigna a nossa realidade, seriam necessárias mais variáveis e dados. Isso se deve ao fato de que no mundo real todos possuem realidades diferentes, seja econômico ou social."
   ]
  },
  {
   "attachments": {},
   "cell_type": "markdown",
   "metadata": {},
   "source": [
    "### Importação e visão geral"
   ]
  },
  {
   "cell_type": "code",
   "execution_count": 79,
   "metadata": {},
   "outputs": [],
   "source": [
    "# importação\n",
    "\n",
    "import numpy as np \n",
    "import pandas as pd \n",
    "import matplotlib.pyplot as plt \n",
    "import seaborn as sns\n",
    "from sklearn.linear_model import LinearRegression\n",
    "from sklearn.model_selection import train_test_split # futuramente precisaremos separar dados de treino e teste"
   ]
  },
  {
   "cell_type": "code",
   "execution_count": 80,
   "metadata": {},
   "outputs": [
    {
     "data": {
      "text/plain": [
       "(500, 2)"
      ]
     },
     "execution_count": 80,
     "metadata": {},
     "output_type": "execute_result"
    }
   ],
   "source": [
    "# carregando todos os dados necessários\n",
    "\n",
    "df = pd.read_csv('data.csv')\n",
    "df.shape # linhas e colunas\n"
   ]
  },
  {
   "cell_type": "code",
   "execution_count": 81,
   "metadata": {},
   "outputs": [
    {
     "data": {
      "text/plain": [
       "Index(['horas_estudo_mes', 'salario'], dtype='object')"
      ]
     },
     "execution_count": 81,
     "metadata": {},
     "output_type": "execute_result"
    }
   ],
   "source": [
    "df.columns # colunas"
   ]
  },
  {
   "cell_type": "code",
   "execution_count": 82,
   "metadata": {},
   "outputs": [
    {
     "data": {
      "text/html": [
       "<div>\n",
       "<style scoped>\n",
       "    .dataframe tbody tr th:only-of-type {\n",
       "        vertical-align: middle;\n",
       "    }\n",
       "\n",
       "    .dataframe tbody tr th {\n",
       "        vertical-align: top;\n",
       "    }\n",
       "\n",
       "    .dataframe thead th {\n",
       "        text-align: right;\n",
       "    }\n",
       "</style>\n",
       "<table border=\"1\" class=\"dataframe\">\n",
       "  <thead>\n",
       "    <tr style=\"text-align: right;\">\n",
       "      <th></th>\n",
       "      <th>horas_estudo_mes</th>\n",
       "      <th>salario</th>\n",
       "    </tr>\n",
       "  </thead>\n",
       "  <tbody>\n",
       "    <tr>\n",
       "      <th>0</th>\n",
       "      <td>57.0</td>\n",
       "      <td>6813.0</td>\n",
       "    </tr>\n",
       "    <tr>\n",
       "      <th>1</th>\n",
       "      <td>48.0</td>\n",
       "      <td>6855.0</td>\n",
       "    </tr>\n",
       "    <tr>\n",
       "      <th>2</th>\n",
       "      <td>60.0</td>\n",
       "      <td>5801.0</td>\n",
       "    </tr>\n",
       "    <tr>\n",
       "      <th>3</th>\n",
       "      <td>73.0</td>\n",
       "      <td>7431.0</td>\n",
       "    </tr>\n",
       "    <tr>\n",
       "      <th>4</th>\n",
       "      <td>46.0</td>\n",
       "      <td>5475.0</td>\n",
       "    </tr>\n",
       "  </tbody>\n",
       "</table>\n",
       "</div>"
      ],
      "text/plain": [
       "   horas_estudo_mes  salario\n",
       "0              57.0   6813.0\n",
       "1              48.0   6855.0\n",
       "2              60.0   5801.0\n",
       "3              73.0   7431.0\n",
       "4              46.0   5475.0"
      ]
     },
     "execution_count": 82,
     "metadata": {},
     "output_type": "execute_result"
    }
   ],
   "source": [
    "df.head() # primeiras linhas"
   ]
  },
  {
   "cell_type": "code",
   "execution_count": 83,
   "metadata": {},
   "outputs": [
    {
     "name": "stdout",
     "output_type": "stream",
     "text": [
      "<class 'pandas.core.frame.DataFrame'>\n",
      "RangeIndex: 500 entries, 0 to 499\n",
      "Data columns (total 2 columns):\n",
      " #   Column            Non-Null Count  Dtype  \n",
      "---  ------            --------------  -----  \n",
      " 0   horas_estudo_mes  500 non-null    float64\n",
      " 1   salario           500 non-null    float64\n",
      "dtypes: float64(2)\n",
      "memory usage: 7.9 KB\n"
     ]
    }
   ],
   "source": [
    "df.info() # informações sobre o dataset"
   ]
  },
  {
   "attachments": {},
   "cell_type": "markdown",
   "metadata": {},
   "source": [
    "### Análise exploratória e resumo estatístico"
   ]
  },
  {
   "cell_type": "code",
   "execution_count": 84,
   "metadata": {},
   "outputs": [
    {
     "data": {
      "text/plain": [
       "horas_estudo_mes    0\n",
       "salario             0\n",
       "dtype: int64"
      ]
     },
     "execution_count": 84,
     "metadata": {},
     "output_type": "execute_result"
    }
   ],
   "source": [
    "df.isnull().sum() # valores nulos"
   ]
  },
  {
   "cell_type": "code",
   "execution_count": 85,
   "metadata": {},
   "outputs": [
    {
     "data": {
      "text/html": [
       "<div>\n",
       "<style scoped>\n",
       "    .dataframe tbody tr th:only-of-type {\n",
       "        vertical-align: middle;\n",
       "    }\n",
       "\n",
       "    .dataframe tbody tr th {\n",
       "        vertical-align: top;\n",
       "    }\n",
       "\n",
       "    .dataframe thead th {\n",
       "        text-align: right;\n",
       "    }\n",
       "</style>\n",
       "<table border=\"1\" class=\"dataframe\">\n",
       "  <thead>\n",
       "    <tr style=\"text-align: right;\">\n",
       "      <th></th>\n",
       "      <th>horas_estudo_mes</th>\n",
       "      <th>salario</th>\n",
       "    </tr>\n",
       "  </thead>\n",
       "  <tbody>\n",
       "    <tr>\n",
       "      <th>horas_estudo_mes</th>\n",
       "      <td>1.000000</td>\n",
       "      <td>0.818576</td>\n",
       "    </tr>\n",
       "    <tr>\n",
       "      <th>salario</th>\n",
       "      <td>0.818576</td>\n",
       "      <td>1.000000</td>\n",
       "    </tr>\n",
       "  </tbody>\n",
       "</table>\n",
       "</div>"
      ],
      "text/plain": [
       "                  horas_estudo_mes   salario\n",
       "horas_estudo_mes          1.000000  0.818576\n",
       "salario                   0.818576  1.000000"
      ]
     },
     "execution_count": 85,
     "metadata": {},
     "output_type": "execute_result"
    }
   ],
   "source": [
    "df.corr() # coeficientes de correlação. vai de -1 até +1, sendo -1 uma correlação negativa perfeita e +1 uma correlação positiva perfeita, próximo de 0 não há correlação.\n",
    "\n",
    "# as diagonais são sempre 1 pois é a correlação de uma variável com ela mesma, ou seja, 100% de correlação. Já a outra metade da matriz é simétrica pois a correlação entre A e B é a mesma entre B e A.\n",
    "\n",
    "# como nosso valor é próximo de 1, temos uma correlação positiva forte entre as variáveis."
   ]
  },
  {
   "cell_type": "code",
   "execution_count": 86,
   "metadata": {},
   "outputs": [
    {
     "data": {
      "text/html": [
       "<div>\n",
       "<style scoped>\n",
       "    .dataframe tbody tr th:only-of-type {\n",
       "        vertical-align: middle;\n",
       "    }\n",
       "\n",
       "    .dataframe tbody tr th {\n",
       "        vertical-align: top;\n",
       "    }\n",
       "\n",
       "    .dataframe thead th {\n",
       "        text-align: right;\n",
       "    }\n",
       "</style>\n",
       "<table border=\"1\" class=\"dataframe\">\n",
       "  <thead>\n",
       "    <tr style=\"text-align: right;\">\n",
       "      <th></th>\n",
       "      <th>horas_estudo_mes</th>\n",
       "      <th>salario</th>\n",
       "    </tr>\n",
       "  </thead>\n",
       "  <tbody>\n",
       "    <tr>\n",
       "      <th>count</th>\n",
       "      <td>500.000000</td>\n",
       "      <td>500.000000</td>\n",
       "    </tr>\n",
       "    <tr>\n",
       "      <th>mean</th>\n",
       "      <td>50.060000</td>\n",
       "      <td>6018.930000</td>\n",
       "    </tr>\n",
       "    <tr>\n",
       "      <th>std</th>\n",
       "      <td>14.659406</td>\n",
       "      <td>848.697853</td>\n",
       "    </tr>\n",
       "    <tr>\n",
       "      <th>min</th>\n",
       "      <td>1.000000</td>\n",
       "      <td>3664.000000</td>\n",
       "    </tr>\n",
       "    <tr>\n",
       "      <th>25%</th>\n",
       "      <td>39.750000</td>\n",
       "      <td>5473.000000</td>\n",
       "    </tr>\n",
       "    <tr>\n",
       "      <th>50%</th>\n",
       "      <td>50.000000</td>\n",
       "      <td>6013.500000</td>\n",
       "    </tr>\n",
       "    <tr>\n",
       "      <th>75%</th>\n",
       "      <td>60.000000</td>\n",
       "      <td>6542.000000</td>\n",
       "    </tr>\n",
       "    <tr>\n",
       "      <th>max</th>\n",
       "      <td>100.000000</td>\n",
       "      <td>9348.000000</td>\n",
       "    </tr>\n",
       "  </tbody>\n",
       "</table>\n",
       "</div>"
      ],
      "text/plain": [
       "       horas_estudo_mes      salario\n",
       "count        500.000000   500.000000\n",
       "mean          50.060000  6018.930000\n",
       "std           14.659406   848.697853\n",
       "min            1.000000  3664.000000\n",
       "25%           39.750000  5473.000000\n",
       "50%           50.000000  6013.500000\n",
       "75%           60.000000  6542.000000\n",
       "max          100.000000  9348.000000"
      ]
     },
     "execution_count": 86,
     "metadata": {},
     "output_type": "execute_result"
    }
   ],
   "source": [
    "df.describe() # estatísticas descritivas"
   ]
  },
  {
   "cell_type": "code",
   "execution_count": 87,
   "metadata": {},
   "outputs": [
    {
     "data": {
      "text/plain": [
       "count    500.000000\n",
       "mean      50.060000\n",
       "std       14.659406\n",
       "min        1.000000\n",
       "25%       39.750000\n",
       "50%       50.000000\n",
       "75%       60.000000\n",
       "max      100.000000\n",
       "Name: horas_estudo_mes, dtype: float64"
      ]
     },
     "execution_count": 87,
     "metadata": {},
     "output_type": "execute_result"
    }
   ],
   "source": [
    "# resumo estatístico da nossa variável preditora\n",
    "\n",
    "df[\"horas_estudo_mes\"].describe()\n",
    "\n",
    "# queremos prever o salário com base nas horas de estudo por mês"
   ]
  },
  {
   "cell_type": "code",
   "execution_count": 88,
   "metadata": {},
   "outputs": [
    {
     "data": {
      "text/plain": [
       "<Axes: xlabel='horas_estudo_mes', ylabel='Count'>"
      ]
     },
     "execution_count": 88,
     "metadata": {},
     "output_type": "execute_result"
    },
    {
     "data": {
      "image/png": "[encoded data removed]",
      "text/plain": [
       "<Figure size 640x480 with 1 Axes>"
      ]
     },
     "metadata": {},
     "output_type": "display_data"
    }
   ],
   "source": [
    "# Histograma da variável preditora\n",
    "\n",
    "sns.histplot(data = df, x= \"horas_estudo_mes\", kde=True)\n",
    "# KDE é o gráfico de densidade, que é uma suavização do histograma"
   ]
  },
  {
   "attachments": {},
   "cell_type": "markdown",
   "metadata": {},
   "source": [
    "O comportamento do gráfico indica normalidade de dados, não será preciso aplicar uma transformação."
   ]
  },
  {
   "attachments": {},
   "cell_type": "markdown",
   "metadata": {},
   "source": [
    "### Preparação dos dados"
   ]
  },
  {
   "cell_type": "code",
   "execution_count": 89,
   "metadata": {},
   "outputs": [
    {
     "data": {
      "text/plain": [
       "numpy.ndarray"
      ]
     },
     "execution_count": 89,
     "metadata": {},
     "output_type": "execute_result"
    }
   ],
   "source": [
    "# Preparando a variável de entrada X\n",
    "\n",
    "X = np.array(df[\"horas_estudo_mes\"])\n",
    "type(X)\n",
    "\n",
    "# temos como x a variável de entrada e como y a variável de saída"
   ]
  },
  {
   "attachments": {},
   "cell_type": "markdown",
   "metadata": {},
   "source": [
    "O scikitlearn espera receber os dados no formato de matriz ou array."
   ]
  },
  {
   "cell_type": "code",
   "execution_count": 90,
   "metadata": {},
   "outputs": [],
   "source": [
    "X = X.reshape(-1,1) # transformando em matriz"
   ]
  },
  {
   "cell_type": "code",
   "execution_count": 91,
   "metadata": {},
   "outputs": [],
   "source": [
    "# preparando a variável alvo\n",
    "\n",
    "y = df[\"salario\"]\n"
   ]
  },
  {
   "cell_type": "code",
   "execution_count": 92,
   "metadata": {},
   "outputs": [
    {
     "data": {
      "image/png": "[encoded data removed]",
      "text/plain": [
       "<Figure size 640x480 with 1 Axes>"
      ]
     },
     "metadata": {},
     "output_type": "display_data"
    }
   ],
   "source": [
    "# gráfico de dispersão\n",
    "\n",
    "plt.scatter(X,y, color = \"blue\", label = \"Dados reais de correlação\")\n",
    "plt.xlabel(\"Horas de estudo por mês\")\n",
    "plt.ylabel(\"Salário\")\n",
    "plt.legend()\n",
    "plt.show()\n"
   ]
  },
  {
   "attachments": {},
   "cell_type": "markdown",
   "metadata": {},
   "source": [
    "Não se pode tirar conclusões sobre causalidade, porém, podemos ver que de maneira geral, pessoas que recebem mais são as que dedicam mais horas de estudo ao mês. Então o salário não aumenta SÓ por causa das horas de estudo. Então o que temos aqui é uma correlação."
   ]
  },
  {
   "cell_type": "code",
   "execution_count": 93,
   "metadata": {},
   "outputs": [],
   "source": [
    "# Agora vamos dividir os dados entre treino e teste, sendo 30% para teste e 70% para treino.\n",
    "\n",
    "X_train, X_test, y_train, y_test = train_test_split(X,y, test_size = 0.3, random_state = 42)"
   ]
  },
  {
   "cell_type": "code",
   "execution_count": 94,
   "metadata": {},
   "outputs": [
    {
     "data": {
      "text/plain": [
       "(350, 1)"
      ]
     },
     "execution_count": 94,
     "metadata": {},
     "output_type": "execute_result"
    }
   ],
   "source": [
    "X_train.shape"
   ]
  },
  {
   "cell_type": "code",
   "execution_count": 95,
   "metadata": {},
   "outputs": [
    {
     "data": {
      "text/plain": [
       "(150, 1)"
      ]
     },
     "execution_count": 95,
     "metadata": {},
     "output_type": "execute_result"
    }
   ],
   "source": [
    "X_test.shape"
   ]
  },
  {
   "cell_type": "code",
   "execution_count": 96,
   "metadata": {},
   "outputs": [
    {
     "data": {
      "text/plain": [
       "(350,)"
      ]
     },
     "execution_count": 96,
     "metadata": {},
     "output_type": "execute_result"
    }
   ],
   "source": [
    "y_train.shape"
   ]
  },
  {
   "cell_type": "code",
   "execution_count": 97,
   "metadata": {},
   "outputs": [
    {
     "data": {
      "text/plain": [
       "(150,)"
      ]
     },
     "execution_count": 97,
     "metadata": {},
     "output_type": "execute_result"
    }
   ],
   "source": [
    "y_test.shape"
   ]
  },
  {
   "attachments": {},
   "cell_type": "markdown",
   "metadata": {},
   "source": [
    "### Modelagem Preditiva"
   ]
  },
  {
   "cell_type": "code",
   "execution_count": 98,
   "metadata": {},
   "outputs": [],
   "source": [
    "# Criando modelo de regressão linear simples\n",
    "\n",
    "model =  LinearRegression()\n"
   ]
  },
  {
   "cell_type": "code",
   "execution_count": 99,
   "metadata": {},
   "outputs": [
    {
     "data": {
      "text/html": [
       "<style>#sk-container-id-2 {color: black;background-color: white;}#sk-container-id-2 pre{padding: 0;}#sk-container-id-2 div.sk-toggleable {background-color: white;}#sk-container-id-2 label.sk-toggleable__label {cursor: pointer;display: block;width: 100%;margin-bottom: 0;padding: 0.3em;box-sizing: border-box;text-align: center;}#sk-container-id-2 label.sk-toggleable__label-arrow:before {content: \"▸\";float: left;margin-right: 0.25em;color: #696969;}#sk-container-id-2 label.sk-toggleable__label-arrow:hover:before {color: black;}#sk-container-id-2 div.sk-estimator:hover label.sk-toggleable__label-arrow:before {color: black;}#sk-container-id-2 div.sk-toggleable__content {max-height: 0;max-width: 0;overflow: hidden;text-align: left;background-color: #f0f8ff;}#sk-container-id-2 div.sk-toggleable__content pre {margin: 0.2em;color: black;border-radius: 0.25em;background-color: #f0f8ff;}#sk-container-id-2 input.sk-toggleable__control:checked~div.sk-toggleable__content {max-height: 200px;max-width: 100%;overflow: auto;}#sk-container-id-2 input.sk-toggleable__control:checked~label.sk-toggleable__label-arrow:before {content: \"▾\";}#sk-container-id-2 div.sk-estimator input.sk-toggleable__control:checked~label.sk-toggleable__label {background-color: #d4ebff;}#sk-container-id-2 div.sk-label input.sk-toggleable__control:checked~label.sk-toggleable__label {background-color: #d4ebff;}#sk-container-id-2 input.sk-hidden--visually {border: 0;clip: rect(1px 1px 1px 1px);clip: rect(1px, 1px, 1px, 1px);height: 1px;margin: -1px;overflow: hidden;padding: 0;position: absolute;width: 1px;}#sk-container-id-2 div.sk-estimator {font-family: monospace;background-color: #f0f8ff;border: 1px dotted black;border-radius: 0.25em;box-sizing: border-box;margin-bottom: 0.5em;}#sk-container-id-2 div.sk-estimator:hover {background-color: #d4ebff;}#sk-container-id-2 div.sk-parallel-item::after {content: \"\";width: 100%;border-bottom: 1px solid gray;flex-grow: 1;}#sk-container-id-2 div.sk-label:hover label.sk-toggleable__label {background-color: #d4ebff;}#sk-container-id-2 div.sk-serial::before {content: \"\";position: absolute;border-left: 1px solid gray;box-sizing: border-box;top: 0;bottom: 0;left: 50%;z-index: 0;}#sk-container-id-2 div.sk-serial {display: flex;flex-direction: column;align-items: center;background-color: white;padding-right: 0.2em;padding-left: 0.2em;position: relative;}#sk-container-id-2 div.sk-item {position: relative;z-index: 1;}#sk-container-id-2 div.sk-parallel {display: flex;align-items: stretch;justify-content: center;background-color: white;position: relative;}#sk-container-id-2 div.sk-item::before, #sk-container-id-2 div.sk-parallel-item::before {content: \"\";position: absolute;border-left: 1px solid gray;box-sizing: border-box;top: 0;bottom: 0;left: 50%;z-index: -1;}#sk-container-id-2 div.sk-parallel-item {display: flex;flex-direction: column;z-index: 1;position: relative;background-color: white;}#sk-container-id-2 div.sk-parallel-item:first-child::after {align-self: flex-end;width: 50%;}#sk-container-id-2 div.sk-parallel-item:last-child::after {align-self: flex-start;width: 50%;}#sk-container-id-2 div.sk-parallel-item:only-child::after {width: 0;}#sk-container-id-2 div.sk-dashed-wrapped {border: 1px dashed gray;margin: 0 0.4em 0.5em 0.4em;box-sizing: border-box;padding-bottom: 0.4em;background-color: white;}#sk-container-id-2 div.sk-label label {font-family: monospace;font-weight: bold;display: inline-block;line-height: 1.2em;}#sk-container-id-2 div.sk-label-container {text-align: center;}#sk-container-id-2 div.sk-container {/* jupyter's `normalize.less` sets `[hidden] { display: none; }` but bootstrap.min.css set `[hidden] { display: none !important; }` so we also need the `!important` here to be able to override the default hidden behavior on the sphinx rendered scikit-learn.org. See: https://github.com/scikit-learn/scikit-learn/issues/21755 */display: inline-block !important;position: relative;}#sk-container-id-2 div.sk-text-repr-fallback {display: none;}</style><div id=\"sk-container-id-2\" class=\"sk-top-container\"><div class=\"sk-text-repr-fallback\"><pre>LinearRegression()</pre><b>In a Jupyter environment, please rerun this cell to show the HTML representation or trust the notebook. <br />On GitHub, the HTML representation is unable to render, please try loading this page with nbviewer.org.</b></div><div class=\"sk-container\" hidden><div class=\"sk-item\"><div class=\"sk-estimator sk-toggleable\"><input class=\"sk-toggleable__control sk-hidden--visually\" id=\"sk-estimator-id-2\" type=\"checkbox\" checked><label for=\"sk-estimator-id-2\" class=\"sk-toggleable__label sk-toggleable__label-arrow\">LinearRegression</label><div class=\"sk-toggleable__content\"><pre>LinearRegression()</pre></div></div></div></div></div>"
      ],
      "text/plain": [
       "LinearRegression()"
      ]
     },
     "execution_count": 99,
     "metadata": {},
     "output_type": "execute_result"
    }
   ],
   "source": [
    "# treina o modelo\n",
    "\n",
    "model.fit(X_train, y_train)"
   ]
  },
  {
   "cell_type": "code",
   "execution_count": 100,
   "metadata": {},
   "outputs": [
    {
     "data": {
      "image/png": "[encoded data removed]",
      "text/plain": [
       "<Figure size 640x480 with 1 Axes>"
      ]
     },
     "metadata": {},
     "output_type": "display_data"
    }
   ],
   "source": [
    "# visualiza uma reta de regressão linear e os dados reais usados no treinamento\n",
    "\n",
    "plt.scatter(X_train, y_train, color = \"blue\", label = \"Dados reais de correlação\") # x e y originais\n",
    "plt.plot(X, model.predict(X), color = \"red\", label = \"Reta de regressão linear simples\") # x e y previstos\n",
    "\n",
    "plt.xlabel(\"Horas de estudo por mês\") \n",
    "plt.ylabel(\"Salário\")\n",
    "plt.legend()\n",
    "\n",
    "plt.show()"
   ]
  },
  {
   "attachments": {},
   "cell_type": "markdown",
   "metadata": {},
   "source": [
    "O modelo é aprendizado supervisionado, ou seja, temos os dados históricos. Alimentamos o algoritmo com uma variável para prever um valor numérico. Se estivéssemos tratando de uma doença, por exemplo, usaríamos classificação para prever um sim ou um não. Na clusterização não teremos a saída, apenas a entrada. Como encontrar clientes parecidos em uma certa região para venda de produtos."
   ]
  },
  {
   "cell_type": "code",
   "execution_count": 101,
   "metadata": {},
   "outputs": [
    {
     "name": "stdout",
     "output_type": "stream",
     "text": [
      "Score do modelo R ao quadrado:, 0.70\n"
     ]
    }
   ],
   "source": [
    "# Avaliando o score do modelo\n",
    "\n",
    "score = model.score(X_train, y_train)\n",
    "print(f\"Score do modelo R ao quadrado:, {score:.2f}\")\n",
    "\n",
    "# score do modelo é de o.70, ou seja, 70% da variância dos dados é explicada pelo modelo."
   ]
  },
  {
   "cell_type": "code",
   "execution_count": 102,
   "metadata": {},
   "outputs": [],
   "source": [
    "# Intercepto do modelo, parâmetro w0\n",
    "\n",
    "intercepto = model.intercept_\n",
    "\n",
    "# o intercepto é o valor de y quando x é igual a zero. Nesse caso, o salário quando o número de horas de estudo é zero.\n"
   ]
  },
  {
   "cell_type": "code",
   "execution_count": 103,
   "metadata": {},
   "outputs": [],
   "source": [
    "# slope - parâmetro w1\n",
    "\n",
    "slope = model.coef_\n"
   ]
  },
  {
   "cell_type": "code",
   "execution_count": 104,
   "metadata": {},
   "outputs": [
    {
     "name": "stdout",
     "output_type": "stream",
     "text": [
      "3582.26515769166\n",
      "[49.1199997]\n"
     ]
    }
   ],
   "source": [
    "print(intercepto)\n",
    "print(slope)\n",
    "\n",
    "# Esses dois valores, intercepto e slope, são os parâmetros do modelo de regressão linear simples.\n",
    "# Na regressão linear, a equação é y = w0 + w1*x\n",
    "# Ou seja, como não sabíamos o parâmtetro w0 e w1, o modelo os encontrou para nós.\n",
    "# Com isso, a reta de regressão linear simples pode ser calculada e mostrada.\n",
    "\n",
    "# Na prática W0 é onde a linha de regressão cruza o eixo Y.\n",
    "# W1 é o coeficiente angular da linha de regressão, ou cálculo de inclinação da reta.\n",
    "# No fim das contas, machine learning é isso: encontrar os parâmetros que melhor se ajustam aos dados, ou mais precisamente: matemática."
   ]
  },
  {
   "attachments": {},
   "cell_type": "markdown",
   "metadata": {},
   "source": [
    "### Deploy do modelo"
   ]
  },
  {
   "cell_type": "code",
   "execution_count": 105,
   "metadata": {},
   "outputs": [
    {
     "name": "stdout",
     "output_type": "stream",
     "text": [
      "Salário previsto para 40 horas de estudo por mês: 5547.07\n"
     ]
    }
   ],
   "source": [
    "# Definindo um novo valor para horas de estudo \n",
    "\n",
    "horas_estudo_new = np.array([[40.0]])\n",
    "\n",
    "# previsão com o modelo treinado\n",
    "\n",
    "salario_new = model.predict(horas_estudo_new)\n",
    "\n",
    "print(f\"Salário previsto para 40 horas de estudo por mês: {salario_new[0]:.2f}\")"
   ]
  },
  {
   "cell_type": "code",
   "execution_count": 106,
   "metadata": {},
   "outputs": [
    {
     "name": "stdout",
     "output_type": "stream",
     "text": [
      "Salário previsto para 40 horas de estudo por mês: 5547.07\n"
     ]
    }
   ],
   "source": [
    "# mesmo resultado utilizando os parâmetros do modelo\n",
    "\n",
    "salario_new = intercepto + slope*40\n",
    "\n",
    "print(f\"Salário previsto para 40 horas de estudo por mês: {salario_new[0]:.2f}\")"
   ]
  },
  {
   "cell_type": "code",
   "execution_count": 107,
   "metadata": {},
   "outputs": [
    {
     "name": "stdout",
     "output_type": "stream",
     "text": [
      "Salário previsto para 20 horas de estudo por mês: 4564.67\n",
      "Salário previsto para 20 horas de estudo por mês: 4564.67\n"
     ]
    }
   ],
   "source": [
    "# Segundo teste.\n",
    "\n",
    "horas_estudo_new = np.array([[20.0]])\n",
    "\n",
    "# previsão com o modelo treinado\n",
    "\n",
    "salario_new = model.predict(horas_estudo_new)\n",
    "\n",
    "print(f\"Salário previsto para 20 horas de estudo por mês: {salario_new[0]:.2f}\")\n",
    "\n",
    "# mesmo resultado utilizando os parâmetros do modelo\n",
    "\n",
    "salario_new = intercepto + slope*20\n",
    "\n",
    "print(f\"Salário previsto para 20 horas de estudo por mês: {salario_new[0]:.2f}\")"
   ]
  },
  {
   "attachments": {},
   "cell_type": "markdown",
   "metadata": {},
   "source": [
    "Com isso, machine learning se resume em matemática aplicada a programação. Porém, é obrigatório que tenhamos o volume de dados necessários para a análise exploratória, limpeza e criação e adaptação do modelo para o uso final."
   ]
  }
 ],
 "metadata": {
  "kernelspec": {
   "display_name": "Python 3",
   "language": "python",
   "name": "python3"
  },
  "language_info": {
   "codemirror_mode": {
    "name": "ipython",
    "version": 3
   },
   "file_extension": ".py",
   "mimetype": "text/x-python",
   "name": "python",
   "nbconvert_exporter": "python",
   "pygments_lexer": "ipython3",
   "version": "3.11.3"
  },
  "orig_nbformat": 4
 },
 "nbformat": 4,
 "nbformat_minor": 2
}
