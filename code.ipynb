{
 "cells": [
  {
   "attachments": {},
   "cell_type": "markdown",
   "metadata": {},
   "source": [
    "### Machine Learning"
   ]
  },
  {
   "attachments": {},
   "cell_type": "markdown",
   "metadata": {},
   "source": [
    "Dentre as práticas de aprendizagem de máquina, temos:"
   ]
  },
  {
   "attachments": {},
   "cell_type": "markdown",
   "metadata": {},
   "source": [
    "Aprendizagem supervisionada:\n",
    "A aprendizagem supervisionada é um tipo de abordagem em que um modelo de aprendizado de máquina é treinado usando um conjunto de dados rotulados. Nesse tipo de aprendizagem, cada exemplo de treinamento consiste em uma entrada (características) e uma saída desejada (rótulo). O objetivo é que o modelo aprenda a mapear corretamente as entradas para as saídas, de modo que possa generalizar e fazer previsões precisas para novos exemplos. Algoritmos comuns de aprendizagem supervisionada incluem regressão linear, árvores de decisão, redes neurais e algoritmos de classificação, como o SVM (Support Vector Machine) e o KNN (K-Nearest Neighbors).\n",
    "\n",
    "Aprendizagem não supervisionada:\n",
    "A aprendizagem não supervisionada é um tipo de abordagem em que um modelo de aprendizado de máquina é treinado em um conjunto de dados não rotulados, ou seja, não há informações sobre as saídas desejadas. O objetivo da aprendizagem não supervisionada é descobrir padrões, estruturas ou relações ocultas nos dados. Os algoritmos de aprendizagem não supervisionada são usados principalmente para agrupar os dados em clusters, encontrar associações entre os exemplos ou reduzir a dimensionalidade dos dados. Alguns exemplos de algoritmos de aprendizagem não supervisionada são o algoritmo K-means, a análise de componentes principais (PCA) e as redes neurais autoencoder.\n",
    "\n",
    "Aprendizagem por reforço:\n",
    "A aprendizagem por reforço é um tipo de abordagem em que um agente de aprendizado interage com um ambiente dinâmico. O agente recebe feedback positivo ou negativo, chamado de recompensa, com base em suas ações. O objetivo da aprendizagem por reforço é que o agente aprenda a tomar ações que maximizem a recompensa total ao longo do tempo. O agente aprende através de tentativa e erro, explorando o ambiente e ajustando sua estratégia com base no feedback recebido. Algoritmos de aprendizagem por reforço são amplamente usados em áreas como jogos, robótica e otimização de processos. O algoritmo Q-learning e o método Monte Carlo são exemplos populares de técnicas de aprendizagem por reforço."
   ]
  },
  {
   "attachments": {},
   "cell_type": "markdown",
   "metadata": {},
   "source": [
    "### ScikitLearn"
   ]
  },
  {
   "attachments": {},
   "cell_type": "markdown",
   "metadata": {},
   "source": [
    "Scikit-learn é uma biblioteca popular de aprendizado de máquina em Python. Também conhecida como sklearn, ela fornece uma ampla gama de algoritmos de aprendizado de máquina supervisionado e não supervisionado, bem como ferramentas para pré-processamento de dados, avaliação de modelos e seleção de recursos.\n",
    "\n",
    "Scikit-learn é amplamente utilizada devido à sua interface simples e consistente, facilitando o uso e a experimentação com diferentes algoritmos. A biblioteca possui uma documentação abrangente, além de uma comunidade ativa que contribui com exemplos e recursos adicionais.\n",
    "\n",
    "Algumas das principais funcionalidades do scikit-learn incluem:\n",
    "\n",
    "Implementação de algoritmos: Scikit-learn oferece implementações eficientes de uma variedade de algoritmos de aprendizado de máquina, como regressão linear, regressão logística, árvores de decisão, florestas aleatórias, SVM (Support Vector Machines), redes neurais, algoritmos de agrupamento, entre outros.\n",
    "\n",
    "Pré-processamento de dados: Scikit-learn possui ferramentas para pré-processar dados antes de alimentá-los aos algoritmos de aprendizado de máquina. Isso inclui a normalização de dados, o tratamento de valores ausentes, a codificação de variáveis categóricas e a redução de dimensionalidade.\n",
    "\n",
    "Avaliação de modelos: Scikit-learn oferece funções para avaliar o desempenho dos modelos de aprendizado de máquina. Isso inclui métricas de avaliação, como precisão, recall, F1-score, matriz de confusão, curvas ROC, entre outras. Também possui ferramentas para validação cruzada e divisão de conjuntos de treinamento e teste.\n",
    "\n",
    "Seleção de recursos: Scikit-learn fornece métodos para selecionar as melhores características (variáveis) a serem usadas em um modelo de aprendizado de máquina. Isso ajuda a reduzir a dimensionalidade dos dados e melhorar a eficiência e a precisão dos modelos.\n",
    "\n",
    "Scikit-learn é uma ferramenta muito útil para iniciar projetos de aprendizado de máquina, permitindo que desenvolvedores e cientistas de dados apliquem algoritmos de forma fácil e eficiente."
   ]
  },
  {
   "attachments": {},
   "cell_type": "markdown",
   "metadata": {},
   "source": [
    "#### O algoritmo será usado para um exemplo de relação entre horas de estudo no mês e salário. Porém, é valido informar que essa relação tem finalidade didática e que para representar de maneira mais fidedigna a nossa realidade, seriam necessárias mais variáveis e dados. Isso se deve ao fato de que no mundo real todos possuem realidades diferentes, seja econômico ou social."
   ]
  },
  {
   "attachments": {},
   "cell_type": "markdown",
   "metadata": {},
   "source": [
    "### Preparação"
   ]
  },
  {
   "cell_type": "code",
   "execution_count": 3,
   "metadata": {},
   "outputs": [],
   "source": [
    "# importação\n",
    "\n",
    "import numpy as np \n",
    "import pandas as pd \n",
    "import matplotlib.pyplot as plt \n",
    "import seaborn as sns\n",
    "from sklearn.linear_model import LinearRegression\n",
    "from sklearn.model_selection import train_test_split # futuramente precisaremos separar dados de treino e teste"
   ]
  },
  {
   "cell_type": "code",
   "execution_count": 4,
   "metadata": {},
   "outputs": [
    {
     "data": {
      "text/plain": [
       "(500, 2)"
      ]
     },
     "execution_count": 4,
     "metadata": {},
     "output_type": "execute_result"
    }
   ],
   "source": [
    "# carregando todos os dados necessários\n",
    "\n",
    "df = pd.read_csv('data.csv')\n",
    "df.shape # linhas e colunas\n"
   ]
  },
  {
   "cell_type": "code",
   "execution_count": 5,
   "metadata": {},
   "outputs": [
    {
     "data": {
      "text/plain": [
       "Index(['horas_estudo_mes', 'salario'], dtype='object')"
      ]
     },
     "execution_count": 5,
     "metadata": {},
     "output_type": "execute_result"
    }
   ],
   "source": [
    "df.columns # colunas"
   ]
  },
  {
   "cell_type": "code",
   "execution_count": 6,
   "metadata": {},
   "outputs": [
    {
     "data": {
      "text/html": [
       "<div>\n",
       "<style scoped>\n",
       "    .dataframe tbody tr th:only-of-type {\n",
       "        vertical-align: middle;\n",
       "    }\n",
       "\n",
       "    .dataframe tbody tr th {\n",
       "        vertical-align: top;\n",
       "    }\n",
       "\n",
       "    .dataframe thead th {\n",
       "        text-align: right;\n",
       "    }\n",
       "</style>\n",
       "<table border=\"1\" class=\"dataframe\">\n",
       "  <thead>\n",
       "    <tr style=\"text-align: right;\">\n",
       "      <th></th>\n",
       "      <th>horas_estudo_mes</th>\n",
       "      <th>salario</th>\n",
       "    </tr>\n",
       "  </thead>\n",
       "  <tbody>\n",
       "    <tr>\n",
       "      <th>0</th>\n",
       "      <td>57.0</td>\n",
       "      <td>6813.0</td>\n",
       "    </tr>\n",
       "    <tr>\n",
       "      <th>1</th>\n",
       "      <td>48.0</td>\n",
       "      <td>6855.0</td>\n",
       "    </tr>\n",
       "    <tr>\n",
       "      <th>2</th>\n",
       "      <td>60.0</td>\n",
       "      <td>5801.0</td>\n",
       "    </tr>\n",
       "    <tr>\n",
       "      <th>3</th>\n",
       "      <td>73.0</td>\n",
       "      <td>7431.0</td>\n",
       "    </tr>\n",
       "    <tr>\n",
       "      <th>4</th>\n",
       "      <td>46.0</td>\n",
       "      <td>5475.0</td>\n",
       "    </tr>\n",
       "  </tbody>\n",
       "</table>\n",
       "</div>"
      ],
      "text/plain": [
       "   horas_estudo_mes  salario\n",
       "0              57.0   6813.0\n",
       "1              48.0   6855.0\n",
       "2              60.0   5801.0\n",
       "3              73.0   7431.0\n",
       "4              46.0   5475.0"
      ]
     },
     "execution_count": 6,
     "metadata": {},
     "output_type": "execute_result"
    }
   ],
   "source": [
    "df.head() # primeiras linhas"
   ]
  },
  {
   "cell_type": "code",
   "execution_count": 7,
   "metadata": {},
   "outputs": [
    {
     "name": "stdout",
     "output_type": "stream",
     "text": [
      "<class 'pandas.core.frame.DataFrame'>\n",
      "RangeIndex: 500 entries, 0 to 499\n",
      "Data columns (total 2 columns):\n",
      " #   Column            Non-Null Count  Dtype  \n",
      "---  ------            --------------  -----  \n",
      " 0   horas_estudo_mes  500 non-null    float64\n",
      " 1   salario           500 non-null    float64\n",
      "dtypes: float64(2)\n",
      "memory usage: 7.9 KB\n"
     ]
    }
   ],
   "source": [
    "df.info() # informações sobre o dataset"
   ]
  },
  {
   "attachments": {},
   "cell_type": "markdown",
   "metadata": {},
   "source": [
    "### Análise exploratória e resumo estatístico"
   ]
  },
  {
   "cell_type": "code",
   "execution_count": 9,
   "metadata": {},
   "outputs": [
    {
     "data": {
      "text/plain": [
       "horas_estudo_mes    0\n",
       "salario             0\n",
       "dtype: int64"
      ]
     },
     "execution_count": 9,
     "metadata": {},
     "output_type": "execute_result"
    }
   ],
   "source": [
    "df.isnull().sum() # valores nulos"
   ]
  },
  {
   "cell_type": "code",
   "execution_count": 12,
   "metadata": {},
   "outputs": [
    {
     "data": {
      "text/html": [
       "<div>\n",
       "<style scoped>\n",
       "    .dataframe tbody tr th:only-of-type {\n",
       "        vertical-align: middle;\n",
       "    }\n",
       "\n",
       "    .dataframe tbody tr th {\n",
       "        vertical-align: top;\n",
       "    }\n",
       "\n",
       "    .dataframe thead th {\n",
       "        text-align: right;\n",
       "    }\n",
       "</style>\n",
       "<table border=\"1\" class=\"dataframe\">\n",
       "  <thead>\n",
       "    <tr style=\"text-align: right;\">\n",
       "      <th></th>\n",
       "      <th>horas_estudo_mes</th>\n",
       "      <th>salario</th>\n",
       "    </tr>\n",
       "  </thead>\n",
       "  <tbody>\n",
       "    <tr>\n",
       "      <th>horas_estudo_mes</th>\n",
       "      <td>1.000000</td>\n",
       "      <td>0.818576</td>\n",
       "    </tr>\n",
       "    <tr>\n",
       "      <th>salario</th>\n",
       "      <td>0.818576</td>\n",
       "      <td>1.000000</td>\n",
       "    </tr>\n",
       "  </tbody>\n",
       "</table>\n",
       "</div>"
      ],
      "text/plain": [
       "                  horas_estudo_mes   salario\n",
       "horas_estudo_mes          1.000000  0.818576\n",
       "salario                   0.818576  1.000000"
      ]
     },
     "execution_count": 12,
     "metadata": {},
     "output_type": "execute_result"
    }
   ],
   "source": [
    "df.corr() # coeficientes de correlação. vai de -1 até +1, sendo -1 uma correlação negativa perfeita e +1 uma correlação positiva perfeita, próximo de 0 não há correlação.\n",
    "\n",
    "# as diagonais são sempre 1 pois é a correlação de uma variável com ela mesma, ou seja, 100% de correlação. Já a outra metade da matriz é simétrica pois a correlação entre A e B é a mesma entre B e A.\n",
    "\n",
    "# como nosso valor é próximo de 1, temos uma correlação positiva forte entre as variáveis."
   ]
  },
  {
   "cell_type": "code",
   "execution_count": null,
   "metadata": {},
   "outputs": [],
   "source": []
  }
 ],
 "metadata": {
  "kernelspec": {
   "display_name": "Python 3",
   "language": "python",
   "name": "python3"
  },
  "language_info": {
   "codemirror_mode": {
    "name": "ipython",
    "version": 3
   },
   "file_extension": ".py",
   "mimetype": "text/x-python",
   "name": "python",
   "nbconvert_exporter": "python",
   "pygments_lexer": "ipython3",
   "version": "3.11.3"
  },
  "orig_nbformat": 4
 },
 "nbformat": 4,
 "nbformat_minor": 2
}
